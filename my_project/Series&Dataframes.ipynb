{
 "cells": [
  {
   "cell_type": "code",
   "execution_count": 4,
   "metadata": {},
   "outputs": [],
   "source": [
    "import pandas as pd\n",
    "import numpy as np"
   ]
  },
  {
   "attachments": {},
   "cell_type": "markdown",
   "metadata": {},
   "source": [
    "#series"
   ]
  },
  {
   "cell_type": "code",
   "execution_count": 8,
   "metadata": {},
   "outputs": [
    {
     "name": "stdout",
     "output_type": "stream",
     "text": [
      "a    1\n",
      "b    2\n",
      "c    3\n",
      "d    3\n",
      "dtype: int64\n",
      "calories lost\n",
      "day1    2\n",
      "day2    3\n",
      "day4    5\n",
      "dtype: int64\n",
      "winners\n",
      "position1      Sharon\n",
      "position2         Joy\n",
      "position3    Patience\n",
      "dtype: object\n",
      "Sharon\n"
     ]
    }
   ],
   "source": [
    "#Create a series using lists.\n",
    "data = pd.Series([1,2,3,3],index=[\"a\",\"b\",\"c\",\"d\"])\n",
    "#create a series by naming your own labels.\n",
    "calories = pd.Series({\"day1\":2, \"day2\":3, \"day4\":5})\n",
    "#key/value objects as series\n",
    "winners = {\"position1\":\"Sharon\", \"position2\":\"Joy\", \"position3\":\"Patience\"}\n",
    "myVar = pd.Series(winners)\n",
    "print(data)\n",
    "print(\"calories lost\")\n",
    "print(calories)\n",
    "print(\"winners\")\n",
    "print(myVar)\n",
    "#Using labels to access a specified value.\n",
    "print(myVar[0])\n"
   ]
  },
  {
   "cell_type": "markdown",
   "metadata": {},
   "source": [
    "#DataFrames"
   ]
  },
  {
   "cell_type": "code",
   "execution_count": 2,
   "metadata": {},
   "outputs": [],
   "source": [
    "import pandas as pd"
   ]
  },
  {
   "cell_type": "code",
   "execution_count": 3,
   "metadata": {},
   "outputs": [
    {
     "name": "stdout",
     "output_type": "stream",
     "text": [
      "  winners  timeTaken  gender\n",
      "0  Sharon          1  Female\n",
      "1    John          2    male\n",
      "2   James          3    male\n",
      "\n",
      "winners      Sharon\n",
      "timeTaken         1\n",
      "gender       Female\n",
      "Name: 0, dtype: object\n",
      "\n",
      "  winners  timeTaken  gender\n",
      "0  Sharon          1  Female\n",
      "2   James          3    male\n"
     ]
    }
   ],
   "source": [
    "#Declare and load data into a dataframe directly.\n",
    "data = pd.DataFrame({\n",
    "    \"winners\": [\"Sharon\",\"John\",\"James\"],\n",
    "    \"timeTaken\": [1,2,3],\n",
    "    \"gender\": [\"Female\",\"male\",\"male\"]\n",
    "})\n",
    "\n",
    "print(data)\n",
    "print(\"\")#space in between\n",
    "\n",
    "#Return a specific row\n",
    "print(data.loc[0])\n",
    "\n",
    "print(\"\")\n",
    "#return two specified rows\n",
    "print(data.loc[[0, 2]])"
   ]
  },
  {
   "cell_type": "code",
   "execution_count": 12,
   "metadata": {},
   "outputs": [
    {
     "name": "stdout",
     "output_type": "stream",
     "text": [
      "               team  members OfficeLocation  Managers\n",
      "0           DataOps       30          WingA         4\n",
      "1  Supplier-Success       50          WingB         5\n",
      "2  Program-Delivery       20       EastWing         3\n"
     ]
    }
   ],
   "source": [
    "#Declare and assign\n",
    "data = {\n",
    "    \"team\": [\"DataOps\",\"Supplier-Success\",\"Program-Delivery\"],\n",
    "    \"members\": [30,50,20],\n",
    "    \"OfficeLocation\": [\"WingA\", \"WingB\", \"EastWing\"],\n",
    "    \"Managers\": [4,5,3]\n",
    "}\n",
    "df = pd.DataFrame(data)\n",
    "print(df)"
   ]
  },
  {
   "cell_type": "code",
   "execution_count": 20,
   "metadata": {},
   "outputs": [
    {
     "name": "stdout",
     "output_type": "stream",
     "text": [
      "      calories  duration\n",
      "day1       450        30\n",
      "day2       237        50\n",
      "day3       450        20\n",
      "day4       345        45\n",
      "day5       364        34\n",
      "day6       849        67\n",
      "day7      2436       100\n"
     ]
    }
   ],
   "source": [
    "#Named indexes\n",
    "data = {\n",
    "    \"calories\": [450,237,450,345,364,849,2436],\n",
    "    \"duration\": [30,50,20,45,34,67,100]\n",
    "}\n",
    "df = pd.DataFrame(data, index=[\"day1\",\"day2\",\"day3\",\"day4\",\"day5\",\"day6\",\"day7\"])\n",
    "print(df)\n"
   ]
  }
 ],
 "metadata": {
  "kernelspec": {
   "display_name": "my_project",
   "language": "python",
   "name": "python3"
  },
  "language_info": {
   "codemirror_mode": {
    "name": "ipython",
    "version": 3
   },
   "file_extension": ".py",
   "mimetype": "text/x-python",
   "name": "python",
   "nbconvert_exporter": "python",
   "pygments_lexer": "ipython3",
   "version": "3.11.0"
  },
  "orig_nbformat": 4
 },
 "nbformat": 4,
 "nbformat_minor": 2
}
